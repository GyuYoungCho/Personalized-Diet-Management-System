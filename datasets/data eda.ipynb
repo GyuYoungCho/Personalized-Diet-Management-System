{
 "cells": [
  {
   "cell_type": "code",
   "execution_count": 1,
   "metadata": {},
   "outputs": [
    {
     "data": {
      "text/plain": [
       "<BarContainer object of 39 artists>"
      ]
     },
     "execution_count": 1,
     "metadata": {},
     "output_type": "execute_result"
    },
    {
     "data": {
      "image/png": "[encoded data removed]",
      "text/plain": [
       "<Figure size 432x288 with 1 Axes>"
      ]
     },
     "metadata": {
      "needs_background": "light"
     },
     "output_type": "display_data"
    }
   ],
   "source": [
    "import matplotlib.pyplot as plt\n",
    "import pandas as pd\n",
    "import numpy as np\n",
    "\n",
    "f2 = [1515, 1235, 960, 1325, 1700, 1038, 856, 1577, 1638, 1325, 985, 997, 1526, 1581, 1633, 1636, 1558, 1635, 1537, 817, 1686, 1049, 1004, 1468, 1605, 1778, 1666, 1180, 1157, 875, 1346, 1215, 1347, 1546, 1110, 1631, 1603, 1985, 1238] #카데고리 별 label 개수\n",
    "label=['오트밀쿠키', '초코파운드케익', '모닝빵', '비건 김치', '블루베리머핀', '야채라면', '베지 서브웨이 샌드위치','쌀국수', '비트수프', '크로와상', '호두', '찐빵', '회덮밥', '오징어덮밥', '새우초밥', '애플파이', '미라클버거', '느타리버섯볶음', '찹싸루니', '채식주의샐러드', '떡볶이', '비건 토마토파스타', '콩고기 스테이크', '야채김밥','고구마케이크', '루꼴라피자', '미역국', '야채만두', '단호박죽', '고구마 샐러드', '채식카레', '오이무침', '오트밀죽','옥수수', '아보카도', '파인애플볶음밥', '르뱅쿠키', '병아리콩샐러드', '돌솥비빔밥'] #음식 카테고리 이름\n",
    "plt.bar(np.arange(len(f2)), f2) #bar graph 그리기\n",
    "#plt.bar(label, f2) #라벨명 추가해서 그리기"
   ]
  },
  {
   "cell_type": "code",
   "execution_count": null,
   "metadata": {},
   "outputs": [],
   "source": []
  }
 ],
 "metadata": {
  "kernelspec": {
   "display_name": "Python 3",
   "language": "python",
   "name": "python3"
  },
  "language_info": {
   "codemirror_mode": {
    "name": "ipython",
    "version": 3
   },
   "file_extension": ".py",
   "mimetype": "text/x-python",
   "name": "python",
   "nbconvert_exporter": "python",
   "pygments_lexer": "ipython3",
   "version": "3.7.4"
  }
 },
 "nbformat": 4,
 "nbformat_minor": 4
}
