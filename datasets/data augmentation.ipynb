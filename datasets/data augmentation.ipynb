{
 "cells": [
  {
   "cell_type": "markdown",
   "metadata": {},
   "source": [
    "## 용량이 너무 커서output은 지우고 올릴게요"
   ]
  },
  {
   "cell_type": "code",
   "execution_count": null,
   "metadata": {},
   "outputs": [],
   "source": [
    "from torchsummary import summary\n",
    "import pandas as pd\n",
    "import numpy as np\n",
    "from skimage.io import imread, imsave\n",
    "from tqdm import tqdm\n",
    "import matplotlib.pyplot as plt\n",
    "%matplotlib inline\n",
    "\n",
    "from sklearn.model_selection import train_test_split\n",
    "from sklearn.metrics import accuracy_score\n",
    "\n",
    "from skimage.transform import rotate\n",
    "from skimage.util import random_noise\n",
    "from skimage.filters import gaussian\n",
    "from scipy import ndimage"
   ]
  },
  {
   "cell_type": "code",
   "execution_count": null,
   "metadata": {
    "scrolled": false
   },
   "outputs": [],
   "source": [
    "import os\n",
    "import pandas as pd\n",
    "import numpy as np\n",
    "from skimage.io import imread, imsave\n",
    "import matplotlib.pyplot as plt\n",
    "\n",
    "\n",
    "path = \"./img/26 미역국/images1/\"\n",
    "file_list = os.listdir(path)\n",
    "file_list_py = [file for file in file_list if file.endswith(\".jpg\")]   #jpg로 끝나는 파일 리스트로 모두 가져오기\n",
    "\n",
    "\n",
    "\n",
    "import cv2\n",
    "for image in file_list_py:\n",
    "    final_data=[]\n",
    "    image_path = './img/26 미역국/images1/' + image   #폴더 내의 이미지 파일 모두 가져오기\n",
    "    label_path = './img/26 미역국/images1/' + image.replace('jpg','txt')\n",
    "    img = imread(image_path)    #image 읽기\n",
    "    #img = img/255\n",
    "    sh = list(img.shape)\n",
    "    final_data.append(np.fliplr(img))  #좌우반전한 이미지 추가\n",
    "    final_data.append(random_noise(img,var=0.2**2))    #노이즈 추가한 이미지 추가\n",
    "    final_ff = np.array(final_data)\n",
    "    fig,ax = plt.subplots(nrows=1,ncols=2,figsize=(20,20))\n",
    "    for i in range(2):\n",
    "        ax[i].imshow(final_ff[i])\n",
    "        imsave('./img/26 미역국/images5/' + image.replace('.jpg', '') + '_d_' + str(i)+'.jpg',final_ff[i])   #좌우반전, 노이즈 추가한 이미지 폴더에 저장하기"
   ]
  },
  {
   "cell_type": "code",
   "execution_count": null,
   "metadata": {},
   "outputs": [],
   "source": []
  }
 ],
 "metadata": {
  "kernelspec": {
   "display_name": "Python 3",
   "language": "python",
   "name": "python3"
  },
  "language_info": {
   "codemirror_mode": {
    "name": "ipython",
    "version": 3
   },
   "file_extension": ".py",
   "mimetype": "text/x-python",
   "name": "python",
   "nbconvert_exporter": "python",
   "pygments_lexer": "ipython3",
   "version": "3.7.4"
  }
 },
 "nbformat": 4,
 "nbformat_minor": 4
}
