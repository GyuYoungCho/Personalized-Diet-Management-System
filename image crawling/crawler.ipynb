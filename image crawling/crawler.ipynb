{
 "cells": [
  {
   "cell_type": "markdown",
   "metadata": {},
   "source": [
    "# 크롤러\n",
    "\n",
    "- 1. 네이버\n",
    "- 2. 구글\n",
    "- 3. 게티\n",
    "- 4. istock\n",
    "- 5. 다음\n",
    "- 6. 인스타"
   ]
  },
  {
   "cell_type": "code",
   "execution_count": 100,
   "metadata": {},
   "outputs": [],
   "source": [
    "flist = ['비트수프']"
   ]
  },
  {
   "cell_type": "markdown",
   "metadata": {},
   "source": [
    "# 네이버"
   ]
  },
  {
   "cell_type": "code",
   "execution_count": null,
   "metadata": {},
   "outputs": [],
   "source": [
    "from selenium import webdriver\n",
    "import requests\n",
    "import urllib\n",
    "from bs4 import BeautifulSoup\n",
    "import time\n",
    "from urllib.robotparser import RobotFileParser\n",
    "from requests.compat import urlparse, urljoin\n",
    "from requests.exceptions import HTTPError\n",
    "import re\n",
    "from urllib.parse import quote_plus\n",
    "from urllib.request import urlretrieve\n",
    "from selenium.webdriver.common.keys import Keys\n",
    "import os\n",
    "\n",
    "search_words = {\"음식\": flist}\n",
    "\n",
    "value = 0\n",
    "for name in search_words['음식']:\n",
    "    driver = webdriver.Chrome('/Users/Gyu/Desktop/mywork/KData/chromedriver')\n",
    "    driver.get('https://search.naver.com/search.naver?where=image&amp;sm=stb_nmr&amp;')\n",
    "    elem = driver.find_element_by_id('nx_query')   #검색창 찾기\n",
    "    \n",
    "    search_name = name\n",
    "    elem.send_keys(search_name)   #검색창에 찾을 이름 입력하기\n",
    "    elem.submit()\n",
    "    for i in range(1,10):\n",
    "        driver.find_element_by_xpath(\"//body\").send_keys(Keys.END)\n",
    "        time.sleep(5)\n",
    "    time.sleep(5)   #5초간 프로세스 정지, 시간 제공\n",
    "    html = driver.page_source\n",
    "    soup = BeautifulSoup(html, 'lxml')     \n",
    "    \n",
    "    def fetch_list_url():\n",
    "        params=[]\n",
    "        imglist = soup.find_all('img',class_=\"_img\")   #img에 해당하는 부분 찾기\n",
    "        for im in imglist:\n",
    "            params.append(im['src'])   #찾은 이미지들 params에 추가\n",
    "        return params\n",
    "    def fetch_detail_url():\n",
    "        dir_name = \"./img/\" + search_name + '/'   #저정할 위치와 이름 지정\n",
    "        if not os.path.isdir(dir_name):\n",
    "            os.makedirs(dir_name)\n",
    "        params = fetch_list_url()    \n",
    "        a = 1  \n",
    "        for p in params:\n",
    "            urllib.request.urlretrieve(p, dir_name + search_name + '1_'+ str(a) + '.jpg')   #params에 추가된 모든 image들 저장\n",
    "            a = a + 1    #저장할 이름의 숫자 키워가면서 \n",
    "    fetch_detail_url()\n",
    "driver.close()   #드라이브 종료"
   ]
  },
  {
   "cell_type": "markdown",
   "metadata": {},
   "source": [
    "# 구글"
   ]
  },
  {
   "cell_type": "code",
   "execution_count": 101,
   "metadata": {},
   "outputs": [],
   "source": [
    "from selenium import webdriver\n",
    "from selenium.webdriver.common.keys import Keys\n",
    "import time\n",
    "import urllib\n",
    "driver = webdriver.Chrome('/Users/Gyu/Desktop/mywork/KData/chromedriver')\n",
    "\n",
    "\n",
    "url = 'https://www.google.com/search?q='\n",
    "detail = '&rlz=1C1NDCM_koKR830KR830&sxsrf=ALeKk00o2ZJazOr-YXIu7j7mXvKPAXycUg:1596970790605&source=lnms&tbm=isch&sa=X&ved=2ahUKEwjG88Ll-43rAhXTMd4KHfzIDS4Q_AUoAXoECAwQAw&biw=1920&bih=903'\n",
    "\n",
    "\n",
    "for search_list in flist:\n",
    "    driver.get(url + search_list + detail)    #음식 리스트에 해당하는 이미지 페이지로 이동\n",
    "    num_of_pagedowns = 60                     \n",
    "    time.sleep(0.5)                    #시간 sleep 걸어주기 0.5초간\n",
    "    body = driver.find_element_by_tag_name('body')        #body tag 찾기\n",
    "    \n",
    "    while num_of_pagedowns:\n",
    "        body.send_keys(Keys.PAGE_DOWN)     #페이지 스크롤 내리기\n",
    "        time.sleep(0.5)\n",
    "        num_of_pagedowns -= 1        \n",
    "        \n",
    "    for j,_ in enumerate(driver.find_elements_by_css_selector('img[class$=Q4LuWd]')[:500]):    #img들의 class에 해당하는 것 찾아서\n",
    "        if _.get_attribute('src') !='':\n",
    "            urllib.request.urlretrieve(_.get_attribute('src'),\"./img/\"+search_list+\"/\" + search_list +'2_'+str(j)+'.jpg') #지정 경로에 저장\n",
    "                \n",
    "    time.sleep(2)\n",
    "\n",
    "driver.close()"
   ]
  },
  {
   "cell_type": "markdown",
   "metadata": {},
   "source": [
    "# 게티"
   ]
  },
  {
   "cell_type": "code",
   "execution_count": 102,
   "metadata": {},
   "outputs": [],
   "source": [
    "from selenium import webdriver\n",
    "import urllib\n",
    "import time\n",
    "driver = webdriver.Chrome('/Users/Gyu/Desktop/mywork/KData/chromedriver')\n",
    "num=1\n",
    "for search_list in flist:\n",
    "    cumsum = 0\n",
    "    driver.get('https://www.gettyimagesbank.com/s/?lv=&st=union&mi=2&q='+search_list+'&ssi=go#page='+str(num))  #음식 이미지에 해당하는 페이지로 이동\n",
    "    while num<10:\n",
    "        num+=1\n",
    "        time.sleep(2)\n",
    "        driver.find_element_by_xpath(\"//body\").send_keys(Keys.END)\n",
    "        if not driver.find_elements_by_css_selector('img[class=imgThumb]'):\n",
    "            continue\n",
    "        k = len(driver.find_elements_by_css_selector('img[class=imgThumb]'))   #image들의 공통된 class찾기\n",
    "        for j, _ in enumerate(driver.find_elements_by_css_selector('img[class=imgThumb]')):   \n",
    "            urllib.request.urlretrieve(_.get_attribute('src'),\"./img/\"+search_list+\"/\" + search_list +'3_'+ str(j+cumsum)+ '.jpg')  #저장경로에 저장\n",
    "        cumsum+=k\n",
    "        driver.get('https://www.gettyimagesbank.com/s/?lv=&st=union&mi=2&q='+search_list+'&ssi=go#page'+str(num))\n",
    "driver.close()"
   ]
  },
  {
   "cell_type": "markdown",
   "metadata": {},
   "source": [
    "# istock"
   ]
  },
  {
   "cell_type": "code",
   "execution_count": 104,
   "metadata": {},
   "outputs": [],
   "source": [
    "from selenium import webdriver\n",
    "import urllib\n",
    "import time\n",
    "driver = webdriver.Chrome('/Users/Gyu/Desktop/mywork/KData/chromedriver')\n",
    "for search_list in flist:\n",
    "    num=1\n",
    "    cumsum = 0\n",
    "    driver.get('https://www.istockphoto.com/kr/이미지/'+search_list+'?mediatype=photography&phrase='+search_list+ '&sort=mostpopular&page='+str(num))\n",
    "    while num<10:\n",
    "        body = driver.find_element_by_tag_name('body')\n",
    "        body.send_keys(Keys.END)\n",
    "        time.sleep(2)\n",
    "        num+=1\n",
    "        k = len(driver.find_elements_by_xpath('//figure[@ng-class=\"figureClassNames\"]//img'))   #xpath로 image에 해당하는 것 찾기\n",
    "        for j, _ in enumerate(driver.find_elements_by_xpath('//figure[@ng-class=\"figureClassNames\"]//img')):\n",
    "            if _.get_attribute('src'):\n",
    "                urllib.request.urlretrieve(_.get_attribute('src'),\"./img/\" + search_list + '/' + search_list +'4_'+ str(j+cumsum)+ '.jpg') #사진저장\n",
    "        cumsum+=k\n",
    "        driver.get('https://www.istockphoto.com/kr/이미지/'+search_list+'?mediatype=photography&phrase='+search_list+ '&sort=mostpopular&page='+str(num))\n",
    "\n",
    "driver.close()"
   ]
  },
  {
   "cell_type": "markdown",
   "metadata": {},
   "source": [
    "# 다음"
   ]
  },
  {
   "cell_type": "code",
   "execution_count": 105,
   "metadata": {},
   "outputs": [],
   "source": [
    "driver = webdriver.Chrome('/Users/Gyu/Desktop/mywork/KData/chromedriver')\n",
    "\n",
    "\n",
    "url = 'https://search.daum.net/search?w=img&nil_search=btn&DA=NTB&enc=utf8&q='\n",
    "num=2\n",
    "down = 8\n",
    "for search_list in flist:\n",
    "    driver.get(url + search_list)\n",
    "    time.sleep(1)\n",
    "    while num:\n",
    "        num-=1\n",
    "        body = driver.find_element_by_tag_name('body')\n",
    "        time.sleep(2)\n",
    "        while down:\n",
    "            body.send_keys(Keys.END)\n",
    "            time.sleep(0.5)\n",
    "            down-=1\n",
    "            if down%4==0:    \n",
    "                driver.find_element_by_xpath('//div[@class=\"extend_comp extend_imgtab\"]//a').click()  #더보기의 의미인 화살표 누르기\n",
    "    for j,_ in enumerate(driver.find_elements_by_css_selector('img[class=thumb_img]')[:500]):   #image class가 thumb_img 모두 찾아서\n",
    "        if _.get_attribute('src') !='':\n",
    "            urllib.request.urlretrieve(_.get_attribute('src'),\"./img/\"+search_list+\"/\" + search_list +'5_'+str(j)+'.jpg')  #저장\n",
    "                \n",
    "    time.sleep(2)\n",
    "\n",
    "driver.close()"
   ]
  }
 ],
 "metadata": {
  "kernelspec": {
   "display_name": "Python 3",
   "language": "python",
   "name": "python3"
  },
  "language_info": {
   "codemirror_mode": {
    "name": "ipython",
    "version": 3
   },
   "file_extension": ".py",
   "mimetype": "text/x-python",
   "name": "python",
   "nbconvert_exporter": "python",
   "pygments_lexer": "ipython3",
   "version": "3.7.4"
  }
 },
 "nbformat": 4,
 "nbformat_minor": 2
}
